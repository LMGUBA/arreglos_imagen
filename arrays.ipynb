{
 "cells": [
  {
   "cell_type": "code",
   "execution_count": 1,
   "id": "5813caec",
   "metadata": {},
   "outputs": [],
   "source": [
    "import numpy as np #importamos numpy"
   ]
  },
  {
   "cell_type": "code",
   "execution_count": 2,
   "id": "ff548bc3",
   "metadata": {},
   "outputs": [],
   "source": [
    "lista = [1,2,3] # creamos una lista\n",
    "array = np.array(lista) # creamos un array"
   ]
  },
  {
   "cell_type": "code",
   "execution_count": 3,
   "id": "9991eaa8",
   "metadata": {},
   "outputs": [
    {
     "data": {
      "text/plain": [
       "array([1, 2, 3])"
      ]
     },
     "execution_count": 3,
     "metadata": {},
     "output_type": "execute_result"
    }
   ],
   "source": [
    "array # imprimimos el array"
   ]
  },
  {
   "cell_type": "code",
   "execution_count": 4,
   "id": "b603ca0f",
   "metadata": {},
   "outputs": [
    {
     "data": {
      "text/plain": [
       "(3,)"
      ]
     },
     "execution_count": 4,
     "metadata": {},
     "output_type": "execute_result"
    }
   ],
   "source": [
    "array.shape # imprimimos el tamaño del array"
   ]
  },
  {
   "cell_type": "code",
   "execution_count": 5,
   "id": "9d6cc93c",
   "metadata": {},
   "outputs": [
    {
     "data": {
      "text/plain": [
       "array([ 0,  2,  4,  6,  8, 10, 12, 14, 16, 18, 20])"
      ]
     },
     "execution_count": 5,
     "metadata": {},
     "output_type": "execute_result"
    }
   ],
   "source": [
    "np.arange(0,21,2) # creamos un array con valores de 0 a 20 con paso de 2"
   ]
  },
  {
   "cell_type": "code",
   "execution_count": 6,
   "id": "65b708ef",
   "metadata": {},
   "outputs": [
    {
     "data": {
      "text/plain": [
       "array([[0., 0., 0., 0.],\n",
       "       [0., 0., 0., 0.],\n",
       "       [0., 0., 0., 0.],\n",
       "       [0., 0., 0., 0.],\n",
       "       [0., 0., 0., 0.],\n",
       "       [0., 0., 0., 0.],\n",
       "       [0., 0., 0., 0.],\n",
       "       [0., 0., 0., 0.],\n",
       "       [0., 0., 0., 0.],\n",
       "       [0., 0., 0., 0.]])"
      ]
     },
     "execution_count": 6,
     "metadata": {},
     "output_type": "execute_result"
    }
   ],
   "source": [
    "np.zeros(shape=(10,4)) # creamos un array de 10x4 con valores 0"
   ]
  },
  {
   "cell_type": "code",
   "execution_count": 7,
   "id": "a412c4c8",
   "metadata": {},
   "outputs": [
    {
     "data": {
      "text/plain": [
       "array([[1., 1., 1.],\n",
       "       [1., 1., 1.],\n",
       "       [1., 1., 1.],\n",
       "       [1., 1., 1.],\n",
       "       [1., 1., 1.],\n",
       "       [1., 1., 1.],\n",
       "       [1., 1., 1.],\n",
       "       [1., 1., 1.],\n",
       "       [1., 1., 1.],\n",
       "       [1., 1., 1.]])"
      ]
     },
     "execution_count": 7,
     "metadata": {},
     "output_type": "execute_result"
    }
   ],
   "source": [
    "np.ones(shape=(10,3)) # creamos un array de 10x4 con valores 1"
   ]
  },
  {
   "cell_type": "code",
   "execution_count": 8,
   "id": "827da580",
   "metadata": {},
   "outputs": [],
   "source": [
    "aleatorios= np.random.randint(0,100,50)"
   ]
  },
  {
   "cell_type": "code",
   "execution_count": 9,
   "id": "88a850d8",
   "metadata": {},
   "outputs": [
    {
     "data": {
      "text/plain": [
       "array([64, 70,  2, 18, 29, 48, 93, 98, 69, 26, 94, 24, 51, 26, 42, 99,  6,\n",
       "       75, 40, 68, 78, 76, 40,  7, 72, 90, 62,  4,  8, 81, 96, 48, 79, 57,\n",
       "       37, 41, 39, 62, 37,  7,  5, 18, 88, 16, 54, 15, 44, 33, 37, 75])"
      ]
     },
     "execution_count": 9,
     "metadata": {},
     "output_type": "execute_result"
    }
   ],
   "source": [
    "aleatorios # imprimimos el array"
   ]
  },
  {
   "cell_type": "code",
   "execution_count": 10,
   "id": "f5894732",
   "metadata": {},
   "outputs": [
    {
     "data": {
      "text/plain": [
       "15"
      ]
     },
     "execution_count": 10,
     "metadata": {},
     "output_type": "execute_result"
    }
   ],
   "source": [
    "aleatorios.argmax() # imprimimos el indice del valor mas alto"
   ]
  },
  {
   "cell_type": "code",
   "execution_count": 11,
   "id": "f0d0c233",
   "metadata": {},
   "outputs": [
    {
     "data": {
      "text/plain": [
       "99"
      ]
     },
     "execution_count": 11,
     "metadata": {},
     "output_type": "execute_result"
    }
   ],
   "source": [
    "aleatorios.max() # imprimimos el valor mas alto"
   ]
  },
  {
   "cell_type": "code",
   "execution_count": 12,
   "id": "ca807f10",
   "metadata": {},
   "outputs": [
    {
     "data": {
      "text/plain": [
       "2"
      ]
     },
     "execution_count": 12,
     "metadata": {},
     "output_type": "execute_result"
    }
   ],
   "source": [
    "aleatorios.min() # imprimimos el valor mas bajo"
   ]
  },
  {
   "cell_type": "code",
   "execution_count": 13,
   "id": "b7086768",
   "metadata": {},
   "outputs": [
    {
     "data": {
      "text/plain": [
       "2"
      ]
     },
     "execution_count": 13,
     "metadata": {},
     "output_type": "execute_result"
    }
   ],
   "source": [
    "aleatorios.argmin()"
   ]
  },
  {
   "cell_type": "code",
   "execution_count": 14,
   "id": "1f50aec8",
   "metadata": {},
   "outputs": [
    {
     "data": {
      "text/plain": [
       "(50,)"
      ]
     },
     "execution_count": 14,
     "metadata": {},
     "output_type": "execute_result"
    }
   ],
   "source": [
    "aleatorios.shape # imprimimos el tamaño del array"
   ]
  },
  {
   "cell_type": "code",
   "execution_count": 15,
   "id": "eeca180a",
   "metadata": {},
   "outputs": [],
   "source": [
    "aleatorios=aleatorios.reshape(10,5) # cambiamos el tamaño del array"
   ]
  },
  {
   "cell_type": "code",
   "execution_count": 16,
   "id": "d7b638a5",
   "metadata": {},
   "outputs": [
    {
     "data": {
      "text/plain": [
       "array([[64, 70,  2, 18, 29],\n",
       "       [48, 93, 98, 69, 26],\n",
       "       [94, 24, 51, 26, 42],\n",
       "       [99,  6, 75, 40, 68],\n",
       "       [78, 76, 40,  7, 72],\n",
       "       [90, 62,  4,  8, 81],\n",
       "       [96, 48, 79, 57, 37],\n",
       "       [41, 39, 62, 37,  7],\n",
       "       [ 5, 18, 88, 16, 54],\n",
       "       [15, 44, 33, 37, 75]])"
      ]
     },
     "execution_count": 16,
     "metadata": {},
     "output_type": "execute_result"
    }
   ],
   "source": [
    "aleatorios"
   ]
  },
  {
   "cell_type": "code",
   "execution_count": 17,
   "id": "456ad16f",
   "metadata": {},
   "outputs": [
    {
     "data": {
      "text/plain": [
       "64"
      ]
     },
     "execution_count": 17,
     "metadata": {},
     "output_type": "execute_result"
    }
   ],
   "source": [
    "aleatorios[0,0] # imprimimos el valor en la posicion 0,0"
   ]
  },
  {
   "cell_type": "code",
   "execution_count": 18,
   "id": "a6c8230c",
   "metadata": {},
   "outputs": [
    {
     "data": {
      "text/plain": [
       "48"
      ]
     },
     "execution_count": 18,
     "metadata": {},
     "output_type": "execute_result"
    }
   ],
   "source": [
    "aleatorios[1,0] # imprimimos el valor en la posicion 1,0"
   ]
  }
 ],
 "metadata": {
  "kernelspec": {
   "display_name": "Python 3 (ipykernel)",
   "language": "python",
   "name": "python3"
  },
  "language_info": {
   "codemirror_mode": {
    "name": "ipython",
    "version": 3
   },
   "file_extension": ".py",
   "mimetype": "text/x-python",
   "name": "python",
   "nbconvert_exporter": "python",
   "pygments_lexer": "ipython3",
   "version": "3.9.7"
  }
 },
 "nbformat": 4,
 "nbformat_minor": 5
}
